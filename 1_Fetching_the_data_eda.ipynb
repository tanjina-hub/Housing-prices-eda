{
 "cells": [
  {
   "attachments": {},
   "cell_type": "markdown",
   "metadata": {},
   "source": [
    "# SQL in Python - Connecting to and retrieving data from PostgreSQL\n",
    "\n",
    "Previously, you have learned how to connect to a SQL database by using a SQL client such as DBeaver. Apart from connecting to databases, DBeaver also allows you to run SQL queries against the database, create new tables and populate them with data as well as retrieving the data.\n",
    "\n",
    "Python also allows executing SQL queries and getting the result into a Python object, for example a Pandas data frame. Instead of exporting a .csv file from DBeaver you can directly get the data you need into Python and continue your work. In addition we can reduce the steps by connecting to the database from Python directly, eliminating the need for a separate SQL client.\n",
    "\n",
    "After you have the data in Python in the required shape you can export the data into a .csv file. This file is for your own reference, please avoid sending .csv files around - database is the point of reference when it comes to data. \n",
    "\n",
    "Having a copy of a .csv file (or another format) can speed up your analysis work. Imagine that the query takes 25 minutes to run. If you made some mistakes in your Python code you might need to go back to the original dataset. Instead of having to rerun the SQL query and having to wait you can read in the .csv file you have previously saved on your hard disk into Python and continue with your analysis work. \n",
    "\n",
    "**In this notebook you will see 2 ways to connect to SQL-Databases and export the data to a CSV file**\n"
   ]
  },
  {
   "attachments": {},
   "cell_type": "markdown",
   "metadata": {},
   "source": [
    "## Creating a connection to a PostgreSQL database with Python"
   ]
  },
  {
   "attachments": {},
   "cell_type": "markdown",
   "metadata": {},
   "source": [
    "There are 2 python packages that are the \"go-to\" when it comes to connecting to SQL-Databases: `psycopg2` and `sqlalchemy` "
   ]
  },
  {
   "attachments": {},
   "cell_type": "markdown",
   "metadata": {},
   "source": [
    "My Client is Nicole Johnson.(Buyer)\n",
    "His requirements: the house should be\n",
    "1. lively\n",
    "2. central neighborhood\n",
    "3. middle price range\n",
    "4. right timing(within a year)\n",
    "I'm working on The King County House Prices dataset which includes data from May 2014 to May 2015 from the state of Washington DC. The King County House Sales dataset on contains 21,597 rows and 21 columns."
   ]
  },
  {
   "attachments": {},
   "cell_type": "markdown",
   "metadata": {},
   "source": [
    "Business Questions:\n",
    "1. How is location affecting the prices in King County and how should you price your house based on the location?\n",
    "2. What is the factor that is not affecting the price of a house?\n",
    "3. What is the main factor outside the square foot that's driving the price\n",
    "4. Does the age of a house affect its sale price in central and lively neighborhoods, for houses in the mid-price range?\n",
    "5. Is there any pick time when the price drop within the year? when and how could it benefits my client?\n",
    "\n"
   ]
  },
  {
   "attachments": {},
   "cell_type": "markdown",
   "metadata": {},
   "source": [
    "### Connecting via psycopg2"
   ]
  },
  {
   "cell_type": "code",
   "execution_count": null,
   "metadata": {},
   "outputs": [],
   "source": [
    "import pandas as pd\n",
    "import psycopg2\n",
    "import numpy as np\n",
    "import matplotlib.pyplot as plt\n",
    "import seaborn as sns\n",
    "import missingno as msno\n",
    "import plotly.express as px\n"
   ]
  },
  {
   "cell_type": "code",
   "execution_count": null,
   "metadata": {},
   "outputs": [],
   "source": [
    "# Floats (decimal numbers) should be displayed rounded with 2 decimal places\n",
    "pd.options.display.float_format = \"{:,.2f}\".format\n",
    "# Set style for plots\n",
    "plt.style.use('fivethirtyeight')"
   ]
  },
  {
   "attachments": {},
   "cell_type": "markdown",
   "metadata": {},
   "source": [
    "\n",
    "In order to create a connection to our PostgreSQL database we need the following information:\n",
    "\n",
    "- host = the address of the machine the database is hosted on\n",
    "- port = the virtual gate number through which communication will be allowed\n",
    "- database = the name of the database\n",
    "- user = the name of the user\n",
    "- password = the password of the user\n",
    "\n",
    "Because we don't want that the database information is published on github we put it into a `.env` file which is added into the `.gitignore`. \n",
    "In these kind of files you can store information that is not supposed to be published.\n",
    "With the `dotenv` package you can read the `.env` files and get the variables.\n",
    "(We will share the file with you on Slack!)\n"
   ]
  },
  {
   "cell_type": "code",
   "execution_count": null,
   "metadata": {},
   "outputs": [],
   "source": [
    "import os\n",
    "from dotenv import load_dotenv\n",
    "\n",
    "load_dotenv()\n",
    "\n",
    "DATABASE = os.getenv('DATABASE')\n",
    "USER_DB = os.getenv('USER_DB')\n",
    "PASSWORD = os.getenv('PASSWORD')\n",
    "HOST = os.getenv('HOST')\n",
    "PORT = os.getenv('PORT')"
   ]
  },
  {
   "attachments": {},
   "cell_type": "markdown",
   "metadata": {},
   "source": [
    "The function from the psycopg2 package to create a connection is called `connect()`.\n",
    "`connect()` expects the parameters listed above as input in order to connect to the database."
   ]
  },
  {
   "cell_type": "code",
   "execution_count": null,
   "metadata": {},
   "outputs": [],
   "source": [
    "# Create connection object conn\n",
    "conn = psycopg2.connect(\n",
    "    database=DATABASE,\n",
    "    user=USER_DB,\n",
    "    password=PASSWORD,\n",
    "    host=HOST,\n",
    "    port=PORT\n",
    ")"
   ]
  },
  {
   "attachments": {},
   "cell_type": "markdown",
   "metadata": {},
   "source": [
    "### Retrieving data from the database with psycopg2\n",
    "\n",
    "Before we can use our connection to get data, we have to create a cursor. A cursor allows Python code to execute PostgreSQL commmands in a database session.\n",
    "A cursor has to be created with the `cursor()` method of our connection object conn."
   ]
  },
  {
   "cell_type": "code",
   "execution_count": null,
   "metadata": {},
   "outputs": [],
   "source": [
    "cur = conn.cursor()"
   ]
  },
  {
   "attachments": {},
   "cell_type": "markdown",
   "metadata": {},
   "source": [
    "Now we can run SQL-Queries with `cur.execute('QUERY')` and then run `cur.fetchall()` to get the data:"
   ]
  },
  {
   "cell_type": "code",
   "execution_count": null,
   "metadata": {},
   "outputs": [],
   "source": [
    "df = pd.read_csv('data/_SELECT_FROM_king_county_house_details_kchd_FULL_JOIN_king_count_202305111223.csv')\n",
    "#cur.execute(\"SELECT * FROM eda.king_county_house_sales LIMIT 10\")\n",
    "#cur.fetchall()\n",
    "pd.set_option('display.max_columns', 100)\n",
    "pd.set_option('display.max_rows', 100)\n",
    "df.describe()"
   ]
  },
  {
   "cell_type": "code",
   "execution_count": null,
   "metadata": {},
   "outputs": [],
   "source": [
    "df.info()\n"
   ]
  },
  {
   "cell_type": "code",
   "execution_count": null,
   "metadata": {},
   "outputs": [],
   "source": [
    "# Plot a scatter plot of longitude and latitude against price\n",
    "plt.scatter(df['long'], df['lat'], c=df['price'], alpha=0.5)\n",
    "plt.colorbar().set_label('Price')\n",
    "\n",
    "# Add labels and title\n",
    "plt.xlabel('Longitude')\n",
    "plt.ylabel('Latitude')\n",
    "plt.title('House Prices by Location')\n",
    "\n",
    "# Show the plot\n",
    "plt.show()"
   ]
  },
  {
   "attachments": {},
   "cell_type": "markdown",
   "metadata": {},
   "source": [
    "From the above scatter plot, we can observe that there is a positive correlation between the price of the house and its location. This means that as we move closer to the central area, the prices tend to increase. However, we can also see that there are certain locations that have high prices despite being farther away from the central area. This could be due to factors such as the neighborhood, amenities, or view. Overall, the scatter plot confirms our hypothesis that the location of a house affects its price."
   ]
  },
  {
   "cell_type": "code",
   "execution_count": null,
   "metadata": {},
   "outputs": [],
   "source": [
    "# plot the map to show the mid price range in the central area\n",
    "\n",
    "# Filter the data for mid-price range and central area\n",
    "filtered_data = df[(df['price'] > 300000) & (df['price'] < 600000) & \n",
    "                     (df['lat'] > 47.5) & (df['lat'] < 47.8) &\n",
    "                     (df['long'] > -122.4) & (df['long'] < -122.2)]\n",
    "\n",
    "# Create the geographic visualization\n",
    "fig = px.scatter_mapbox(filtered_data, lat='lat', lon='long', color='price',\n",
    "                        size='sqft_living', hover_name='zipcode', zoom=10,\n",
    "                        mapbox_style='open-street-map')\n",
    "\n",
    "# Update the layout of the visualization to include a title and remove margins\n",
    "fig.update_layout(title='Mid-Price Range Houses in Central Area', margin=dict(l=0, r=0, t=50, b=0))\n",
    "\n",
    "# Add interactivity with hover information\n",
    "fig.update_traces(hovertemplate='<b>%{hovertext}</b><br><br>' +\n",
    "                                  'Price: %{marker.color:.2f}<br>' +\n",
    "                                  'Square Footage: %{marker.size}<br>' +\n",
    "                                  'Latitude: %{lat:.2f}<br>' +\n",
    "                                  'Longitude: %{lon:.2f}')\n",
    "\n",
    "# Show the visualization\n",
    "fig.show()"
   ]
  },
  {
   "attachments": {},
   "cell_type": "markdown",
   "metadata": {},
   "source": [
    "This is a scatter mapbox plot showing the locations of houses in the mid-price range in the central area of King County. The color of each dot represents the sale price, and the size represents the square footage of the living area"
   ]
  },
  {
   "attachments": {},
   "cell_type": "markdown",
   "metadata": {},
   "source": [
    "## Insights and recommendation"
   ]
  },
  {
   "attachments": {},
   "cell_type": "markdown",
   "metadata": {},
   "source": [
    "Zip code 98103 corresponds to the area around the neighborhood of Fremont, which is located in the north-central part of Seattle.\n",
    "Zip code 98115 corresponds to the area around the neighborhoods of Wedgwood and View Ridge, which are located in the northeast part of Seattle.\n",
    "Zip code 98117 corresponds to the area around the neighborhood of Ballard, which is located in the northwest part of Seattle."
   ]
  },
  {
   "cell_type": "code",
   "execution_count": null,
   "metadata": {},
   "outputs": [],
   "source": [
    "# Create a scatterplot with the longitude and latitude as the x and y axes, and use the price as the color\n",
    "# sns.scatterplot(x='long', y='lat', hue='price', data=df, size= 'price',\n",
    "#                 sizes=(20, 200), alpha=0.7, legend=True)\n",
    "\n",
    "# # Add a title to the plot\n",
    "# plt.title('King County House Prices by Location')\n",
    "\n",
    "# # Show the plot\n",
    "# plt.show()"
   ]
  },
  {
   "cell_type": "code",
   "execution_count": null,
   "metadata": {},
   "outputs": [],
   "source": [
    "df.shape"
   ]
  },
  {
   "attachments": {},
   "cell_type": "markdown",
   "metadata": {},
   "source": [
    "Cleaning the dataframe"
   ]
  },
  {
   "cell_type": "code",
   "execution_count": null,
   "metadata": {},
   "outputs": [],
   "source": [
    "# change \"date\" dtype to datetime with format %Y/%m/%d\n",
    "df1 = df.copy()\n",
    "df1['date'] = pd.to_datetime(df1['date'], format='%Y/%m/%d')\n",
    "df1\n"
   ]
  },
  {
   "cell_type": "code",
   "execution_count": null,
   "metadata": {},
   "outputs": [],
   "source": [
    "#checking the dtypes\n",
    "df1.info()"
   ]
  },
  {
   "cell_type": "code",
   "execution_count": null,
   "metadata": {},
   "outputs": [],
   "source": [
    "#column yr_renovated has a lot of zero\n",
    "df2 = df1.copy()\n",
    "df2['yr_renovated'] = df2.yr_renovated.apply(lambda x: (x /10))\n",
    "\n",
    "#also changing the data type\n",
    "\n",
    "df2['yr_renovated'] = df2['yr_renovated'].astype('Int64')\n",
    "df2.head()"
   ]
  },
  {
   "cell_type": "code",
   "execution_count": null,
   "metadata": {},
   "outputs": [],
   "source": [
    "df2.isnull().sum()"
   ]
  },
  {
   "attachments": {},
   "cell_type": "markdown",
   "metadata": {},
   "source": [
    "## Correlation matrix"
   ]
  },
  {
   "cell_type": "code",
   "execution_count": null,
   "metadata": {},
   "outputs": [],
   "source": [
    "#correlation matrix between columns\n",
    "Entire_dataframe = df2[['price', 'bedrooms', 'bathrooms', 'sqft_living', 'sqft_lot',\n",
    "       'waterfront', 'view', 'condition', 'grade', 'sqft_above',\n",
    "       'sqft_basement', 'yr_built', 'yr_renovated', 'zipcode', 'lat', 'long',\n",
    "       'sqft_living15', 'sqft_lot15', 'date'\n",
    "       ]]\n",
    "#heatmap to see the correlation\n",
    "df_matrix = Entire_dataframe.corr()\n",
    "plt.figure(figsize = (20, 14))\n",
    "ax = sns.heatmap(df_matrix, linewidths=.4, annot=True, cmap='coolwarm')"
   ]
  },
  {
   "cell_type": "code",
   "execution_count": null,
   "metadata": {},
   "outputs": [],
   "source": [
    "#fill missing values\n",
    "\n",
    "df3 = df2.copy()\n",
    "df3['view'] = df2['view'].fillna(df2['view'].mean())\n",
    "df3['yr_renovated'] = df2['yr_renovated'].fillna(df2['yr_renovated'].mode()[0])\n",
    "df3.head()\n"
   ]
  },
  {
   "attachments": {},
   "cell_type": "markdown",
   "metadata": {},
   "source": []
  },
  {
   "cell_type": "code",
   "execution_count": null,
   "metadata": {},
   "outputs": [],
   "source": [
    "# Convert date to datetime format and extract year and month\n",
    "df3['date'] = pd.to_datetime(df3['date'])\n",
    "df3['year_month'] = df3['date'].dt.to_period('M')\n",
    "\n",
    "# Group by year and month, and calculate the median price\n",
    "median_price_by_month = df3.groupby('year_month')['price'].median().reset_index()\n",
    "\n",
    "# Compute the price per sqft for each variable\n",
    "df3['price_sqft_living'] = df3['price'] / df3['sqft_living']\n",
    "df3['price_sqft_lot'] = df3['price'] / df3['sqft_lot']\n",
    "df3['price_sqft_lot15'] = df3['price'] / df3['sqft_lot15']\n",
    "df3['price_sqft_living15'] = df3['price'] / df3['sqft_living15']\n",
    "\n",
    "# Calculate the average price per sqft\n",
    "df3['price_sqft_avg'] = (df3['price_sqft_living'] + df3['price_sqft_lot'] + df3['price_sqft_lot15'] + df3['price_sqft_living15']) / 4\n",
    "\n",
    "# Group by year and month, and calculate the mean price per sqft\n",
    "mean_price_sqft_by_month = df3.groupby('year_month')['price_sqft_avg'].mean().reset_index()\n",
    "df3.head()"
   ]
  },
  {
   "cell_type": "code",
   "execution_count": null,
   "metadata": {},
   "outputs": [],
   "source": [
    "# plt.figure(figsize = (12, 6))\n",
    "\n",
    "# sns.countplot(x = df3['view'], hue = 'price', data = df3)\n",
    "\n",
    "plt.figure(figsize=(12, 6))\n",
    "df3['view'].value_counts().plot(kind='bar')\n",
    "plt.xlabel('View')\n",
    "plt.ylabel('Count')\n",
    "plt.title('Distribution of House Sales by View')\n",
    "plt.show()\n",
    "\n",
    "\n",
    "# this shows that view does not impact the sales of a house much"
   ]
  },
  {
   "cell_type": "code",
   "execution_count": null,
   "metadata": {},
   "outputs": [],
   "source": [
    "plt.figure(figsize = (18, 8))\n",
    "sns.barplot(x = df3['view'], y = df3['price'], hue = df3['price_sqft_avg'], ci = False)\n",
    "plt.title('Average Price based on view per price group')\n",
    "\n",
    "# There's is no major significance of average price and view if we compared it per price group\n",
    "# the analogy here is even if your houses has the most beautiful view in King County it shouldn't affect the price much"
   ]
  },
  {
   "attachments": {},
   "cell_type": "markdown",
   "metadata": {},
   "source": [
    "## Need to work on, it doesn't work"
   ]
  },
  {
   "cell_type": "code",
   "execution_count": null,
   "metadata": {},
   "outputs": [],
   "source": [
    "# plt.figure(figsize = (12 , 5))\n",
    "# sns.barplot(x = df3['price_sqft_avg'], y= df3['yr_built'], ci = False, palette = 'icefire_r')\n",
    "# plt.title('Average Age per Price Group')\n",
    "# plt.xticks(rotation = 90)\n",
    "# plt.show()\n",
    "# the age group of the house doesn't really have a positve or negative correlation with the price\n",
    "# house that's on the lower price tend to be older in average"
   ]
  },
  {
   "attachments": {},
   "cell_type": "markdown",
   "metadata": {},
   "source": [
    "## need some modification"
   ]
  },
  {
   "cell_type": "code",
   "execution_count": null,
   "metadata": {},
   "outputs": [],
   "source": [
    "# Convert date column to datetime format\n",
    "df3['date'] = pd.to_datetime(df3['date'])\n",
    "\n",
    "# Compute median sale price and average price per sqft by month\n",
    "df3['month'] = pd.to_datetime(df3['date']).dt.to_period('M')\n",
    "median_price_by_month = df3.groupby('month')['price'].median()\n",
    "avg_price_by_month = df3.groupby('month')['price_sqft_avg'].mean()\n",
    "\n",
    "# Create a figure with two subplots\n",
    "fig, axs = plt.subplots(1, 2, figsize=(15, 5), sharex=True)\n",
    "\n",
    "# Plot median sale price over time\n",
    "axs[0].plot(median_price_by_month.index.to_timestamp(), median_price_by_month.values)\n",
    "axs[0].set_ylabel('Median Sale Price')\n",
    "axs[0].set_title('Median Sale Price Over Time')\n",
    "\n",
    "# Plot average price per sqft over time\n",
    "axs[1].plot(avg_price_by_month.index.to_timestamp(), avg_price_by_month.values)\n",
    "axs[1].set_ylabel('Avg Price per Sqft')\n",
    "axs[1].set_title('Avg Price per Sqft Over Time')\n",
    "\n",
    "plt.show()\n"
   ]
  },
  {
   "attachments": {},
   "cell_type": "markdown",
   "metadata": {},
   "source": [
    "There is a pattern to both graphs. Prices dip some time around January and February 2015. I proceeded to split the data into two data sets. Homes sold up to January 2015, and homes sold from February 2015 on. is this true for the above graph\n",
    "\n",
    "this solves my question: Is there any pick time when the price drop within the year? when and how could it benefits my client?"
   ]
  },
  {
   "cell_type": "code",
   "execution_count": null,
   "metadata": {},
   "outputs": [],
   "source": [
    "#add column total sqft which is the sum of sqft_living and sqft_lot\n",
    "\n",
    "df3['total_sqft'] = df3.apply(lambda x: x['sqft_living'] + x['sqft_lot'], axis=1)"
   ]
  },
  {
   "cell_type": "code",
   "execution_count": null,
   "metadata": {},
   "outputs": [],
   "source": [
    "# calculate price per square foot of total_sqft space\n",
    "\n",
    "#df.price_sqft = df4.copy()\n",
    "\n",
    "df3['price_sqft'] = df3.apply(lambda row: row['price'] / row['total_sqft'], axis=1)\n",
    "df3.head()"
   ]
  },
  {
   "cell_type": "code",
   "execution_count": null,
   "metadata": {},
   "outputs": [],
   "source": [
    "#add a new column distance to get the mean value of lat and long\n",
    "\n",
    "df3['distance'] = df3.apply(lambda x: (x['lat'] + x['long'])/2, axis=1)\n",
    "df3.head()\n"
   ]
  },
  {
   "cell_type": "code",
   "execution_count": null,
   "metadata": {},
   "outputs": [],
   "source": [
    "df3.corr()['price_sqft'].sort_values()"
   ]
  },
  {
   "cell_type": "code",
   "execution_count": null,
   "metadata": {},
   "outputs": [],
   "source": [
    "df4 = df3.copy()\n",
    "df4 = df3[['condition', 'grade', 'yr_built', 'date', 'distance', 'total_sqft', 'price_sqft']]\n",
    "df4.head()"
   ]
  },
  {
   "cell_type": "code",
   "execution_count": null,
   "metadata": {},
   "outputs": [],
   "source": [
    "df5.describe()"
   ]
  },
  {
   "attachments": {},
   "cell_type": "markdown",
   "metadata": {},
   "source": [
    "## Check for correlations"
   ]
  },
  {
   "cell_type": "code",
   "execution_count": null,
   "metadata": {},
   "outputs": [],
   "source": [
    "#Example of choosing which columns to correlate matrix between these variables\n",
    "#Just a list of the columns of interest inside an extra pair of [ ]\n",
    "df_matrix1 = df4[[\"bedrooms\",\"bathrooms\",\"floors\",\"zipcode\",\"condition\",\"grade\",\"yr_built\",\"yr_renovated\", \"lat\", \"long\", \"price\",\"sqft_living\",\"sqft_lot\",\"sqft_living15\",\"sqft_lot15\",\"sqft_above\",\"sqft_basement\",\"price_sqft_living\", \"distance\"]].corr()\n",
    "#sns.heatmap(df_matrix1)"
   ]
  },
  {
   "cell_type": "code",
   "execution_count": null,
   "metadata": {},
   "outputs": [],
   "source": [
    "# draw the heatmap \n",
    "plt.figure(figsize = (20,18))\n",
    "ax = sns.heatmap(df_matrix1, linewidths=.5, annot=True, cmap='coolwarm')\n"
   ]
  }
 ],
 "metadata": {
  "kernelspec": {
   "display_name": "Python 3.9.12 ('.venv': venv)",
   "language": "python",
   "name": "python3"
  },
  "language_info": {
   "codemirror_mode": {
    "name": "ipython",
    "version": 3
   },
   "file_extension": ".py",
   "mimetype": "text/x-python",
   "name": "python",
   "nbconvert_exporter": "python",
   "pygments_lexer": "ipython3",
   "version": "3.9.8"
  },
  "vscode": {
   "interpreter": {
    "hash": "86bfcc733a99316639cfae738bd2c12342c3c5e2c4e3f470908e9f9639795c12"
   }
  }
 },
 "nbformat": 4,
 "nbformat_minor": 4
}
